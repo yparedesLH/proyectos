{
  "nbformat": 4,
  "nbformat_minor": 0,
  "metadata": {
    "kernelspec": {
      "display_name": "Python 3",
      "language": "python",
      "name": "python3"
    },
    "language_info": {
      "codemirror_mode": {
        "name": "ipython",
        "version": 3
      },
      "file_extension": ".py",
      "mimetype": "text/x-python",
      "name": "python",
      "nbconvert_exporter": "python",
      "pygments_lexer": "ipython3",
      "version": "3.7.4"
    },
    "colab": {
      "name": "model1.ipynb",
      "provenance": []
    }
  },
  "cells": [
    {
      "cell_type": "code",
      "metadata": {
        "colab": {
          "base_uri": "https://localhost:8080/"
        },
        "id": "gmdbssC8qbit",
        "outputId": "71c8848b-fa30-428b-d66a-f316e05fb96a"
      },
      "source": [
        "!pip install mip"
      ],
      "execution_count": 2,
      "outputs": [
        {
          "output_type": "stream",
          "text": [
            "Collecting mip\n",
            "\u001b[?25l  Downloading https://files.pythonhosted.org/packages/e5/7c/615a417b8b74dde4c3573f09c79612e3e0ed8c9b9488daf67e86cde350d2/mip-1.13.0-py3-none-any.whl (48.0MB)\n",
            "\u001b[K     |████████████████████████████████| 48.0MB 93kB/s \n",
            "\u001b[?25hRequirement already satisfied: cffi in /usr/local/lib/python3.6/dist-packages (from mip) (1.14.4)\n",
            "Requirement already satisfied: pycparser in /usr/local/lib/python3.6/dist-packages (from cffi->mip) (2.20)\n",
            "Installing collected packages: mip\n",
            "Successfully installed mip-1.13.0\n"
          ],
          "name": "stdout"
        }
      ]
    },
    {
      "cell_type": "code",
      "metadata": {
        "id": "OeS8zWU8qlPo"
      },
      "source": [
        "import numpy as np\r\n",
        "from mip import *\r\n",
        "import mip"
      ],
      "execution_count": 4,
      "outputs": []
    },
    {
      "cell_type": "code",
      "metadata": {
        "id": "tyBLeAKLqbiy"
      },
      "source": [
        "m=Model()\r\n",
        "n=10\r\n",
        "x=[m.add_var(var_type=INTEGER)for i in range(n)]"
      ],
      "execution_count": 8,
      "outputs": []
    },
    {
      "cell_type": "code",
      "metadata": {
        "id": "PpMkNkjRqbiz"
      },
      "source": [
        "c=np.array([4, 4, 4, 4, 4, 4,4,4,4,4])"
      ],
      "execution_count": 9,
      "outputs": []
    },
    {
      "cell_type": "code",
      "metadata": {
        "id": "lj5oMsbzrQK9"
      },
      "source": [
        "#función objetivo\r\n",
        "\r\n",
        "m.objective=xsum(c[i]*x[i] for i in range(n))"
      ],
      "execution_count": 11,
      "outputs": []
    },
    {
      "cell_type": "code",
      "metadata": {
        "id": "6RcLpbZ8y9eo"
      },
      "source": [
        "#monto entragado por IPS\r\n",
        "m+= xsum(x[i] for i  in range (n) )<=140 \r\n",
        "\r\n",
        "#demanda de juguete de 10 días\r\n",
        "d=np.array([10, 10, 10, 10, 10, 20,20,20,20,20]) \r\n",
        "M=np.array([[1,0,0,0,0,0,0,0,0,0],\r\n",
        "           [1,1,0,0,0,0,0,0,0,0],\r\n",
        "           [1,1,1,0,0,0,0,0,0,0],\r\n",
        "           [1,1,1,1,0,0,0,0,0,0],\r\n",
        "           [1,1,1,1,1,0,0,0,0,0],\r\n",
        "           [1,1,1,1,1,1,0,0,0,0],\r\n",
        "           [1,1,1,1,1,1,1,0,0,0],\r\n",
        "           [1,1,1,1,1,1,1,1,0,0],\r\n",
        "           [1,1,1,1,1,1,1,1,1,0]])\r\n",
        "saldo1=10"
      ],
      "execution_count": 12,
      "outputs": []
    },
    {
      "cell_type": "code",
      "metadata": {
        "id": "1xli2AeIzGQS",
        "outputId": "655ac8d8-28b1-4b6b-e0ee-57a0016fcd77",
        "colab": {
          "base_uri": "https://localhost:8080/"
        }
      },
      "source": [
        "#restricción de saldo mayor a demanda diaria\r\n",
        "\r\n",
        "for i in range(n-1):\r\n",
        " m+=xsum(M[i][j] *(x-d)[j] for j  in range (n))-d[i+1] >= -saldo1 \r\n",
        "\r\n",
        "status=m.optimize(max_seconds=1000)\r\n",
        "print(\"status:\",status)\r\n",
        "print(\"funcion objetivo:\",m.objective_value)\r\n",
        "print(\"soluciones:\",m.num_solutions)\r\n",
        "\r\n",
        "for i in range(n):\r\n",
        "    print (x[i].x)"
      ],
      "execution_count": 19,
      "outputs": [
        {
          "output_type": "stream",
          "text": [
            "status: OptimizationStatus.OPTIMAL\n",
            "funcion objetivo: 560.0\n",
            "soluciones: 1\n",
            "140.0\n",
            "0.0\n",
            "0.0\n",
            "0.0\n",
            "0.0\n",
            "0.0\n",
            "0.0\n",
            "0.0\n",
            "0.0\n",
            "0.0\n"
          ],
          "name": "stdout"
        }
      ]
    },
    {
      "cell_type": "code",
      "metadata": {
        "id": "EP5LatkyzM_n"
      },
      "source": [
        ""
      ],
      "execution_count": null,
      "outputs": []
    }
  ]
}